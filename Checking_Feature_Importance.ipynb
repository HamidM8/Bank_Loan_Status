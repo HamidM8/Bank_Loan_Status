{
  "nbformat": 4,
  "nbformat_minor": 0,
  "metadata": {
    "colab": {
      "name": "Feature_Importance.ipynb",
      "provenance": [],
      "collapsed_sections": []
    },
    "kernelspec": {
      "name": "python3",
      "display_name": "Python 3"
    },
    "language_info": {
      "name": "python"
    }
  },
  "cells": [
    {
      "cell_type": "markdown",
      "metadata": {
        "id": "tULoccoUTsQw"
      },
      "source": [
        "Importing the libraries"
      ]
    },
    {
      "cell_type": "code",
      "metadata": {
        "id": "Vdygxv7tTs95"
      },
      "source": [
        "import numpy as np\n",
        "import matplotlib.pyplot as plt\n",
        "import pandas as pd"
      ],
      "execution_count": 38,
      "outputs": []
    },
    {
      "cell_type": "markdown",
      "metadata": {
        "id": "TuaXfiPnTvGn"
      },
      "source": [
        "Importing the training dataset"
      ]
    },
    {
      "cell_type": "code",
      "metadata": {
        "id": "XDBdqBQKTyJ2"
      },
      "source": [
        "dataset = pd.read_csv('bank_loan_main_shrt.csv')\n",
        "#Through there are many independent variables in Dataset, we will use only columns:\n",
        "#Current Loan Amount, Term, Credit Score, Annual Income, Years in current job, Number of Credit Problems, Current Credit Balance, Bankruptcies,Tax Liens.\n",
        "#X = dataset.iloc[:, [3,4,5,6,8,15,16,18,19]].values  #exluded some columns\n",
        "#y = dataset.iloc[:, 2].values    #status of loan\n"
      ],
      "execution_count": 39,
      "outputs": []
    },
    {
      "cell_type": "code",
      "metadata": {
        "id": "IY2j0z7p900m"
      },
      "source": [
        "dataset.drop([\"Loan ID\", \"Customer ID\", \"Home Ownership\", \"Purpose\",\"Monthly Debt\",\"Months since last delinquent\",\"Number of Open Accounts\",\\\n",
        "              \"Maximum Open Credit\",\"Unnamed: 19\",\"Unnamed: 20\",\"Unnamed: 21\",\"Unnamed: 22\",\"Unnamed: 23\",\"Unnamed: 24\",\"Unnamed: 25\",\"Unnamed: 26\"], axis =1, inplace=True)\n",
        "#dataset.drop([\"Loan ID\", \"Customer ID\", \"Home Ownership\", \"Purpose\",\"Monthly Debt\",\"Months since last delinquent\",\"Number of Open Accounts\",\\\n",
        "#              \"Maximum Open Credit\"], axis =1, inplace=True)"
      ],
      "execution_count": 40,
      "outputs": []
    },
    {
      "cell_type": "markdown",
      "metadata": {
        "id": "bslikeSUWbxh"
      },
      "source": [
        "Taking care of missing data"
      ]
    },
    {
      "cell_type": "code",
      "metadata": {
        "id": "HBglrrRWWosH"
      },
      "source": [
        "dataset.dropna(inplace = True)  #droping rows with null"
      ],
      "execution_count": 41,
      "outputs": []
    },
    {
      "cell_type": "code",
      "metadata": {
        "colab": {
          "base_uri": "https://localhost:8080/"
        },
        "id": "_YPqUA6HGW40",
        "outputId": "ee738ae3-da89-4c5b-d335-828d79605973"
      },
      "source": [
        "Loan_Status = dataset[[\"Loan Status\"]]\n",
        "dataset = dataset.drop([\"Loan Status\"], axis=1)\n",
        "dataset = pd.concat([dataset, Loan_Status], axis =1 )\n",
        "dataset.info()"
      ],
      "execution_count": 42,
      "outputs": [
        {
          "output_type": "stream",
          "text": [
            "<class 'pandas.core.frame.DataFrame'>\n",
            "Int64Index: 566 entries, 0 to 734\n",
            "Data columns (total 11 columns):\n",
            " #   Column                     Non-Null Count  Dtype  \n",
            "---  ------                     --------------  -----  \n",
            " 0   Current Loan Amount        566 non-null    int64  \n",
            " 1   Term                       566 non-null    object \n",
            " 2   Credit Score               566 non-null    float64\n",
            " 3   Annual Income              566 non-null    float64\n",
            " 4   Years in current job       566 non-null    float64\n",
            " 5   Years of Credit History    566 non-null    float64\n",
            " 6   Number of Credit Problems  566 non-null    int64  \n",
            " 7   Current Credit Balance     566 non-null    int64  \n",
            " 8   Bankruptcies               566 non-null    int64  \n",
            " 9   Tax Liens                  566 non-null    int64  \n",
            " 10  Loan Status                566 non-null    object \n",
            "dtypes: float64(4), int64(5), object(2)\n",
            "memory usage: 53.1+ KB\n"
          ],
          "name": "stdout"
        }
      ]
    },
    {
      "cell_type": "code",
      "metadata": {
        "id": "SqaVr7IS_ATc"
      },
      "source": [
        "X = dataset.iloc[:, [0,1,2,3,4,5,6,7,8,9]].values\n",
        "y = dataset.iloc[:, 10].values    #status of loan"
      ],
      "execution_count": 43,
      "outputs": []
    },
    {
      "cell_type": "markdown",
      "metadata": {
        "id": "S33qKBH_eynF"
      },
      "source": [
        "Encoding the Independent Variable (col: Loan_Term)"
      ]
    },
    {
      "cell_type": "code",
      "metadata": {
        "id": "40vEhq6ze0Ac"
      },
      "source": [
        "from sklearn.compose import ColumnTransformer\n",
        "from sklearn.preprocessing import OneHotEncoder  #import class that will proceed with encoding\n",
        "ColTrnsfm = ColumnTransformer(transformers=[('encoder', OneHotEncoder(), [1])], remainder='passthrough')\n",
        "X = np.array(ColTrnsfm.fit_transform(X))\n"
      ],
      "execution_count": 44,
      "outputs": []
    },
    {
      "cell_type": "code",
      "metadata": {
        "colab": {
          "base_uri": "https://localhost:8080/"
        },
        "id": "vnHxIHQNbPaD",
        "outputId": "604f1721-68a8-47a1-d00d-b8ba218803a7"
      },
      "source": [
        "X_train"
      ],
      "execution_count": 45,
      "outputs": [
        {
          "output_type": "execute_result",
          "data": {
            "text/plain": [
              "array([[0.0, 1.0, -0.7117756699601541, ..., -0.511145720158929,\n",
              "        -0.36159899874113766, -0.13215474336335026],\n",
              "       [0.0, 1.0, -0.46990875348459554, ..., -0.5554140089503345,\n",
              "        -0.36159899874113766, -0.13215474336335026],\n",
              "       [0.0, 1.0, -0.351800843336484, ..., 0.033904114107147235,\n",
              "        -0.36159899874113766, -0.13215474336335026],\n",
              "       ...,\n",
              "       [0.0, 1.0, -0.9641073890878094, ..., -0.3124105416198461,\n",
              "        -0.36159899874113766, -0.13215474336335026],\n",
              "       [0.0, 1.0, -1.3448114639693147, ..., -0.6999385854060902,\n",
              "        -0.36159899874113766, -0.13215474336335026],\n",
              "       [0.0, 1.0, -0.9069645319944016, ..., -0.68499734364337,\n",
              "        -0.36159899874113766, -0.13215474336335026]], dtype=object)"
            ]
          },
          "metadata": {
            "tags": []
          },
          "execution_count": 45
        }
      ]
    },
    {
      "cell_type": "markdown",
      "metadata": {
        "id": "Uve8V2J1hqVP"
      },
      "source": [
        "Encoding the Dependent Variable (Col: Loan_Status)"
      ]
    },
    {
      "cell_type": "code",
      "metadata": {
        "id": "hqg5X7mvhuID"
      },
      "source": [
        "from sklearn.preprocessing import LabelEncoder\n",
        "le = LabelEncoder()\n",
        "y = le.fit_transform(y)"
      ],
      "execution_count": 46,
      "outputs": []
    },
    {
      "cell_type": "markdown",
      "metadata": {
        "id": "5pzTaPwhrKHr"
      },
      "source": [
        "**Splitting the Dataset into the training and Test Sets**"
      ]
    },
    {
      "cell_type": "code",
      "metadata": {
        "id": "w0I3orbsrJMU"
      },
      "source": [
        "#3. Splitting the Dataset into the training and Test Sets\n",
        "from sklearn.model_selection import train_test_split\n",
        "X_train, X_test, y_train, y_test = train_test_split(X, y, test_size = 0.20, random_state = 0)"
      ],
      "execution_count": 47,
      "outputs": []
    },
    {
      "cell_type": "code",
      "metadata": {
        "id": "ztHT3m1abJZJ"
      },
      "source": [
        ""
      ],
      "execution_count": 47,
      "outputs": []
    },
    {
      "cell_type": "markdown",
      "metadata": {
        "id": "0rFfNaz0it9L"
      },
      "source": [
        "**Feature Scaling - Standardisation**"
      ]
    },
    {
      "cell_type": "code",
      "metadata": {
        "id": "O6X4ptBpjYSk"
      },
      "source": [
        "#Standardisation-recommended [-3:3] vs Normalisation [0:1] for specifc situations\n",
        "#note: dont apply to encoded indep variables\n",
        "from sklearn.preprocessing import StandardScaler #Standartisation \n",
        "sc = StandardScaler()\n",
        "X_train[:, 2:] = sc.fit_transform(X_train[:, 2:])\n",
        "X_test[:, 2:] = sc.transform(X_test[:, 2:])"
      ],
      "execution_count": 48,
      "outputs": []
    },
    {
      "cell_type": "markdown",
      "metadata": {
        "id": "w3fbOKEDN5_J"
      },
      "source": [
        "**Training the SVM Model on the Training DataSet**"
      ]
    },
    {
      "cell_type": "code",
      "metadata": {
        "colab": {
          "base_uri": "https://localhost:8080/"
        },
        "id": "3UrmvF0trmmr",
        "outputId": "818eca55-a519-43bb-dc9f-96ea08fef852"
      },
      "source": [
        "# 5.3 Training the model on the Training Set (SVM)\n",
        "from sklearn.svm import SVC\n",
        "classifier = SVC(kernel= 'linear')\n",
        "classifier.fit(X_train, y_train)\n",
        "\n"
      ],
      "execution_count": 49,
      "outputs": [
        {
          "output_type": "execute_result",
          "data": {
            "text/plain": [
              "SVC(C=1.0, break_ties=False, cache_size=200, class_weight=None, coef0=0.0,\n",
              "    decision_function_shape='ovr', degree=3, gamma='scale', kernel='linear',\n",
              "    max_iter=-1, probability=False, random_state=None, shrinking=True,\n",
              "    tol=0.001, verbose=False)"
            ]
          },
          "metadata": {
            "tags": []
          },
          "execution_count": 49
        }
      ]
    },
    {
      "cell_type": "markdown",
      "metadata": {
        "id": "KSWiMg2cV-He"
      },
      "source": [
        "**Get Feature Importance, prepare summary report and make visualization**"
      ]
    },
    {
      "cell_type": "code",
      "metadata": {
        "id": "A8QJFZMBYoD1"
      },
      "source": [
        "features = ['ShortTerm', 'LongTerm', 'Current Loan Amount', 'Credit Score', 'Annual Income',\\\n",
        "                  'Years in current job', 'Years of Credit History',\\\n",
        "                  'Number of Credit Problems', 'Current Credit Balance', 'Bankruptcies',\\\n",
        "                  'Tax Liens']"
      ],
      "execution_count": 51,
      "outputs": []
    },
    {
      "cell_type": "code",
      "metadata": {
        "colab": {
          "base_uri": "https://localhost:8080/"
        },
        "id": "LL301wwubgEj",
        "outputId": "1bc94a05-8913-4711-b791-d5dfcae57027"
      },
      "source": [
        "X_train[0:2, :]"
      ],
      "execution_count": 52,
      "outputs": [
        {
          "output_type": "execute_result",
          "data": {
            "text/plain": [
              "array([[0.0, 1.0, -0.7117756699601541, -0.24849686260106174,\n",
              "        -0.048771253011145495, 0.3187041992668317, -1.1188634524909182,\n",
              "        -0.35946937773700843, -0.511145720158929, -0.36159899874113766,\n",
              "        -0.13215474336335026],\n",
              "       [0.0, 1.0, -0.46990875348459554, -0.22168150801829556,\n",
              "        -1.0955875504319073, -1.333926371309932, -1.7272376734477561,\n",
              "        -0.35946937773700843, -0.5554140089503345, -0.36159899874113766,\n",
              "        -0.13215474336335026]], dtype=object)"
            ]
          },
          "metadata": {
            "tags": []
          },
          "execution_count": 52
        }
      ]
    },
    {
      "cell_type": "code",
      "metadata": {
        "colab": {
          "base_uri": "https://localhost:8080/",
          "height": 281
        },
        "id": "36E5J3QwYJhJ",
        "outputId": "4e58541b-c970-4b64-9fce-d180176a6b4a"
      },
      "source": [
        "pd.Series(abs(classifier.coef_[0]), index=features).nlargest(10).plot(kind='barh')"
      ],
      "execution_count": 55,
      "outputs": [
        {
          "output_type": "execute_result",
          "data": {
            "text/plain": [
              "<matplotlib.axes._subplots.AxesSubplot at 0x7f6dddb39450>"
            ]
          },
          "metadata": {
            "tags": []
          },
          "execution_count": 55
        },
        {
          "output_type": "display_data",
          "data": {
            "image/png": "[encoded data removed]",
            "text/plain": [
              "<Figure size 432x288 with 1 Axes>"
            ]
          },
          "metadata": {
            "tags": [],
            "needs_background": "light"
          }
        }
      ]
    },
    {
      "cell_type": "markdown",
      "metadata": {
        "id": "-UPMqG_Rb87R"
      },
      "source": [
        "We see that most influencing feature to the result is customer's credit score. So we will build our app for deployment using credit score of customers and wil ltry to predict if this customer will be able to fully pay for loan or not."
      ]
    }
  ]
}