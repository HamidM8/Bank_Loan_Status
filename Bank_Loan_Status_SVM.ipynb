{
  "nbformat": 4,
  "nbformat_minor": 0,
  "metadata": {
    "colab": {
      "name": "Bank_Loan_Status_SVM.ipynb",
      "provenance": [],
      "collapsed_sections": []
    },
    "kernelspec": {
      "name": "python3",
      "display_name": "Python 3"
    }
  },
  "cells": [
    {
      "cell_type": "markdown",
      "metadata": {
        "id": "dh1VLOYAQXbq"
      },
      "source": [
        "**Based on accuracy score we chose model for our data - Model SVM**"
      ]
    },
    {
      "cell_type": "markdown",
      "metadata": {
        "id": "Z09L9ba2SC3S"
      },
      "source": [
        "Support Vector Machine model showed best accuracy score result (0.82028)"
      ]
    },
    {
      "cell_type": "markdown",
      "metadata": {
        "id": "tULoccoUTsQw"
      },
      "source": [
        "Importing the libraries"
      ]
    },
    {
      "cell_type": "code",
      "metadata": {
        "id": "Vdygxv7tTs95"
      },
      "source": [
        "import numpy as np\n",
        "#import matplotlib.pyplot as plt\n",
        "import pandas as pd"
      ],
      "execution_count": 252,
      "outputs": []
    },
    {
      "cell_type": "markdown",
      "metadata": {
        "id": "TuaXfiPnTvGn"
      },
      "source": [
        "Importing the training dataset"
      ]
    },
    {
      "cell_type": "code",
      "metadata": {
        "id": "XDBdqBQKTyJ2",
        "colab": {
          "base_uri": "https://localhost:8080/"
        },
        "outputId": "e007220f-7198-4fd1-eabb-6759d66a25f6"
      },
      "source": [
        "dataset = pd.read_csv('bank_loan_main.csv')"
      ],
      "execution_count": 253,
      "outputs": [
        {
          "output_type": "stream",
          "text": [
            "/usr/local/lib/python3.7/dist-packages/IPython/core/interactiveshell.py:2718: DtypeWarning: Columns (3,7) have mixed types.Specify dtype option on import or set low_memory=False.\n",
            "  interactivity=interactivity, compiler=compiler, result=result)\n"
          ],
          "name": "stderr"
        }
      ]
    },
    {
      "cell_type": "code",
      "metadata": {
        "colab": {
          "base_uri": "https://localhost:8080/",
          "height": 305
        },
        "id": "bgOqlQtN_n-i",
        "outputId": "e23f4b86-e46c-482b-ee71-8c7403c30311"
      },
      "source": [
        "dataset.head()"
      ],
      "execution_count": 254,
      "outputs": [
        {
          "output_type": "execute_result",
          "data": {
            "text/html": [
              "<div>\n",
              "<style scoped>\n",
              "    .dataframe tbody tr th:only-of-type {\n",
              "        vertical-align: middle;\n",
              "    }\n",
              "\n",
              "    .dataframe tbody tr th {\n",
              "        vertical-align: top;\n",
              "    }\n",
              "\n",
              "    .dataframe thead th {\n",
              "        text-align: right;\n",
              "    }\n",
              "</style>\n",
              "<table border=\"1\" class=\"dataframe\">\n",
              "  <thead>\n",
              "    <tr style=\"text-align: right;\">\n",
              "      <th></th>\n",
              "      <th>Loan ID</th>\n",
              "      <th>Customer ID</th>\n",
              "      <th>Loan Status</th>\n",
              "      <th>Current Loan Amount</th>\n",
              "      <th>Term</th>\n",
              "      <th>Credit Score</th>\n",
              "      <th>Annual Income</th>\n",
              "      <th>Years in current job</th>\n",
              "      <th>Home Ownership</th>\n",
              "      <th>Purpose</th>\n",
              "      <th>Monthly Debt</th>\n",
              "      <th>Years of Credit History</th>\n",
              "      <th>Months since last delinquent</th>\n",
              "      <th>Number of Open Accounts</th>\n",
              "      <th>Number of Credit Problems</th>\n",
              "      <th>Current Credit Balance</th>\n",
              "      <th>Maximum Open Credit</th>\n",
              "      <th>Bankruptcies</th>\n",
              "      <th>Tax Liens</th>\n",
              "    </tr>\n",
              "  </thead>\n",
              "  <tbody>\n",
              "    <tr>\n",
              "      <th>0</th>\n",
              "      <td>14dd8831-6af5-400b-83ec-68e61888a048</td>\n",
              "      <td>981165ec-3274-42f5-a3b4-d104041a9ca9</td>\n",
              "      <td>Fully Paid</td>\n",
              "      <td>445412</td>\n",
              "      <td>Short Term</td>\n",
              "      <td>709.0</td>\n",
              "      <td>1167493.0</td>\n",
              "      <td>8</td>\n",
              "      <td>Home Mortgage</td>\n",
              "      <td>Home Improvements</td>\n",
              "      <td>5214.74</td>\n",
              "      <td>17.2</td>\n",
              "      <td>NaN</td>\n",
              "      <td>6</td>\n",
              "      <td>1</td>\n",
              "      <td>228190</td>\n",
              "      <td>416746.0</td>\n",
              "      <td>1.0</td>\n",
              "      <td>0.0</td>\n",
              "    </tr>\n",
              "    <tr>\n",
              "      <th>1</th>\n",
              "      <td>4771cc26-131a-45db-b5aa-537ea4ba5342</td>\n",
              "      <td>2de017a3-2e01-49cb-a581-08169e83be29</td>\n",
              "      <td>Fully Paid</td>\n",
              "      <td>262328</td>\n",
              "      <td>Short Term</td>\n",
              "      <td>NaN</td>\n",
              "      <td>NaN</td>\n",
              "      <td>10</td>\n",
              "      <td>Home Mortgage</td>\n",
              "      <td>Debt Consolidation</td>\n",
              "      <td>33295.98</td>\n",
              "      <td>21.1</td>\n",
              "      <td>8.0</td>\n",
              "      <td>35</td>\n",
              "      <td>0</td>\n",
              "      <td>229976</td>\n",
              "      <td>850784.0</td>\n",
              "      <td>0.0</td>\n",
              "      <td>0.0</td>\n",
              "    </tr>\n",
              "    <tr>\n",
              "      <th>2</th>\n",
              "      <td>4eed4e6a-aa2f-4c91-8651-ce984ee8fb26</td>\n",
              "      <td>5efb2b2b-bf11-4dfd-a572-3761a2694725</td>\n",
              "      <td>Fully Paid</td>\n",
              "      <td>99999999</td>\n",
              "      <td>Short Term</td>\n",
              "      <td>741.0</td>\n",
              "      <td>2231892.0</td>\n",
              "      <td>8</td>\n",
              "      <td>Own Home</td>\n",
              "      <td>Debt Consolidation</td>\n",
              "      <td>29200.53</td>\n",
              "      <td>14.9</td>\n",
              "      <td>29.0</td>\n",
              "      <td>18</td>\n",
              "      <td>1</td>\n",
              "      <td>297996</td>\n",
              "      <td>750090.0</td>\n",
              "      <td>0.0</td>\n",
              "      <td>0.0</td>\n",
              "    </tr>\n",
              "    <tr>\n",
              "      <th>3</th>\n",
              "      <td>77598f7b-32e7-4e3b-a6e5-06ba0d98fe8a</td>\n",
              "      <td>e777faab-98ae-45af-9a86-7ce5b33b1011</td>\n",
              "      <td>Fully Paid</td>\n",
              "      <td>347666</td>\n",
              "      <td>Long Term</td>\n",
              "      <td>721.0</td>\n",
              "      <td>806949.0</td>\n",
              "      <td>3</td>\n",
              "      <td>Own Home</td>\n",
              "      <td>Debt Consolidation</td>\n",
              "      <td>8741.90</td>\n",
              "      <td>12.0</td>\n",
              "      <td>NaN</td>\n",
              "      <td>9</td>\n",
              "      <td>0</td>\n",
              "      <td>256329</td>\n",
              "      <td>386958.0</td>\n",
              "      <td>0.0</td>\n",
              "      <td>0.0</td>\n",
              "    </tr>\n",
              "    <tr>\n",
              "      <th>4</th>\n",
              "      <td>d4062e70-befa-4995-8643-a0de73938182</td>\n",
              "      <td>81536ad9-5ccf-4eb8-befb-47a4d608658e</td>\n",
              "      <td>Fully Paid</td>\n",
              "      <td>176220</td>\n",
              "      <td>Short Term</td>\n",
              "      <td>NaN</td>\n",
              "      <td>NaN</td>\n",
              "      <td>5</td>\n",
              "      <td>Rent</td>\n",
              "      <td>Debt Consolidation</td>\n",
              "      <td>20639.70</td>\n",
              "      <td>6.1</td>\n",
              "      <td>NaN</td>\n",
              "      <td>15</td>\n",
              "      <td>0</td>\n",
              "      <td>253460</td>\n",
              "      <td>427174.0</td>\n",
              "      <td>0.0</td>\n",
              "      <td>0.0</td>\n",
              "    </tr>\n",
              "  </tbody>\n",
              "</table>\n",
              "</div>"
            ],
            "text/plain": [
              "                                Loan ID  ... Tax Liens\n",
              "0  14dd8831-6af5-400b-83ec-68e61888a048  ...       0.0\n",
              "1  4771cc26-131a-45db-b5aa-537ea4ba5342  ...       0.0\n",
              "2  4eed4e6a-aa2f-4c91-8651-ce984ee8fb26  ...       0.0\n",
              "3  77598f7b-32e7-4e3b-a6e5-06ba0d98fe8a  ...       0.0\n",
              "4  d4062e70-befa-4995-8643-a0de73938182  ...       0.0\n",
              "\n",
              "[5 rows x 19 columns]"
            ]
          },
          "metadata": {
            "tags": []
          },
          "execution_count": 254
        }
      ]
    },
    {
      "cell_type": "code",
      "metadata": {
        "colab": {
          "base_uri": "https://localhost:8080/"
        },
        "id": "aY6JhCtd9sJC",
        "outputId": "2d2126cd-7590-4518-c75b-0ad05f5f964a"
      },
      "source": [
        "dataset.info() "
      ],
      "execution_count": 255,
      "outputs": [
        {
          "output_type": "stream",
          "text": [
            "<class 'pandas.core.frame.DataFrame'>\n",
            "RangeIndex: 105768 entries, 0 to 105767\n",
            "Data columns (total 19 columns):\n",
            " #   Column                        Non-Null Count   Dtype  \n",
            "---  ------                        --------------   -----  \n",
            " 0   Loan ID                       105768 non-null  object \n",
            " 1   Customer ID                   105768 non-null  object \n",
            " 2   Loan Status                   105768 non-null  object \n",
            " 3   Current Loan Amount           105768 non-null  object \n",
            " 4   Term                          105767 non-null  object \n",
            " 5   Credit Score                  85532 non-null   float64\n",
            " 6   Annual Income                 85533 non-null   float64\n",
            " 7   Years in current job          101302 non-null  object \n",
            " 8   Home Ownership                105768 non-null  object \n",
            " 9   Purpose                       105768 non-null  object \n",
            " 10  Monthly Debt                  105768 non-null  float64\n",
            " 11  Years of Credit History       105768 non-null  float64\n",
            " 12  Months since last delinquent  49611 non-null   float64\n",
            " 13  Number of Open Accounts       105768 non-null  int64  \n",
            " 14  Number of Credit Problems     105768 non-null  int64  \n",
            " 15  Current Credit Balance        105768 non-null  int64  \n",
            " 16  Maximum Open Credit           105766 non-null  float64\n",
            " 17  Bankruptcies                  105547 non-null  float64\n",
            " 18  Tax Liens                     105757 non-null  float64\n",
            "dtypes: float64(8), int64(3), object(8)\n",
            "memory usage: 15.3+ MB\n"
          ],
          "name": "stdout"
        }
      ]
    },
    {
      "cell_type": "code",
      "metadata": {
        "id": "IY2j0z7p900m"
      },
      "source": [
        "#dataset.drop([\"Loan ID\", \"Customer ID\", \"Home Ownership\", \"Purpose\",\"Monthly Debt\",\"Months since last delinquent\",\"Number of Open Accounts\",\\\n",
        "#              \"Maximum Open Credit\",\"Unnamed: 19\",\"Unnamed: 20\",\"Unnamed: 21\",\"Unnamed: 22\",\"Unnamed: 23\",\"Unnamed: 24\",\"Unnamed: 25\",\"Unnamed: 26\"], axis =1, inplace=True)\n",
        "dataset.drop([\"Loan ID\", \"Customer ID\", \"Home Ownership\", \"Purpose\",\"Monthly Debt\",\"Months since last delinquent\",\"Number of Open Accounts\",\\\n",
        "              \"Maximum Open Credit\"], axis =1, inplace=True)"
      ],
      "execution_count": 256,
      "outputs": []
    },
    {
      "cell_type": "code",
      "metadata": {
        "colab": {
          "base_uri": "https://localhost:8080/",
          "height": 191
        },
        "id": "4qQjnjrA916R",
        "outputId": "80d6a4b4-7cc3-4f9d-f1ff-21645a9eba23"
      },
      "source": [
        "dataset.head()"
      ],
      "execution_count": 257,
      "outputs": [
        {
          "output_type": "execute_result",
          "data": {
            "text/html": [
              "<div>\n",
              "<style scoped>\n",
              "    .dataframe tbody tr th:only-of-type {\n",
              "        vertical-align: middle;\n",
              "    }\n",
              "\n",
              "    .dataframe tbody tr th {\n",
              "        vertical-align: top;\n",
              "    }\n",
              "\n",
              "    .dataframe thead th {\n",
              "        text-align: right;\n",
              "    }\n",
              "</style>\n",
              "<table border=\"1\" class=\"dataframe\">\n",
              "  <thead>\n",
              "    <tr style=\"text-align: right;\">\n",
              "      <th></th>\n",
              "      <th>Loan Status</th>\n",
              "      <th>Current Loan Amount</th>\n",
              "      <th>Term</th>\n",
              "      <th>Credit Score</th>\n",
              "      <th>Annual Income</th>\n",
              "      <th>Years in current job</th>\n",
              "      <th>Years of Credit History</th>\n",
              "      <th>Number of Credit Problems</th>\n",
              "      <th>Current Credit Balance</th>\n",
              "      <th>Bankruptcies</th>\n",
              "      <th>Tax Liens</th>\n",
              "    </tr>\n",
              "  </thead>\n",
              "  <tbody>\n",
              "    <tr>\n",
              "      <th>0</th>\n",
              "      <td>Fully Paid</td>\n",
              "      <td>445412</td>\n",
              "      <td>Short Term</td>\n",
              "      <td>709.0</td>\n",
              "      <td>1167493.0</td>\n",
              "      <td>8</td>\n",
              "      <td>17.2</td>\n",
              "      <td>1</td>\n",
              "      <td>228190</td>\n",
              "      <td>1.0</td>\n",
              "      <td>0.0</td>\n",
              "    </tr>\n",
              "    <tr>\n",
              "      <th>1</th>\n",
              "      <td>Fully Paid</td>\n",
              "      <td>262328</td>\n",
              "      <td>Short Term</td>\n",
              "      <td>NaN</td>\n",
              "      <td>NaN</td>\n",
              "      <td>10</td>\n",
              "      <td>21.1</td>\n",
              "      <td>0</td>\n",
              "      <td>229976</td>\n",
              "      <td>0.0</td>\n",
              "      <td>0.0</td>\n",
              "    </tr>\n",
              "    <tr>\n",
              "      <th>2</th>\n",
              "      <td>Fully Paid</td>\n",
              "      <td>99999999</td>\n",
              "      <td>Short Term</td>\n",
              "      <td>741.0</td>\n",
              "      <td>2231892.0</td>\n",
              "      <td>8</td>\n",
              "      <td>14.9</td>\n",
              "      <td>1</td>\n",
              "      <td>297996</td>\n",
              "      <td>0.0</td>\n",
              "      <td>0.0</td>\n",
              "    </tr>\n",
              "    <tr>\n",
              "      <th>3</th>\n",
              "      <td>Fully Paid</td>\n",
              "      <td>347666</td>\n",
              "      <td>Long Term</td>\n",
              "      <td>721.0</td>\n",
              "      <td>806949.0</td>\n",
              "      <td>3</td>\n",
              "      <td>12.0</td>\n",
              "      <td>0</td>\n",
              "      <td>256329</td>\n",
              "      <td>0.0</td>\n",
              "      <td>0.0</td>\n",
              "    </tr>\n",
              "    <tr>\n",
              "      <th>4</th>\n",
              "      <td>Fully Paid</td>\n",
              "      <td>176220</td>\n",
              "      <td>Short Term</td>\n",
              "      <td>NaN</td>\n",
              "      <td>NaN</td>\n",
              "      <td>5</td>\n",
              "      <td>6.1</td>\n",
              "      <td>0</td>\n",
              "      <td>253460</td>\n",
              "      <td>0.0</td>\n",
              "      <td>0.0</td>\n",
              "    </tr>\n",
              "  </tbody>\n",
              "</table>\n",
              "</div>"
            ],
            "text/plain": [
              "  Loan Status Current Loan Amount  ... Bankruptcies  Tax Liens\n",
              "0  Fully Paid              445412  ...          1.0        0.0\n",
              "1  Fully Paid              262328  ...          0.0        0.0\n",
              "2  Fully Paid            99999999  ...          0.0        0.0\n",
              "3  Fully Paid              347666  ...          0.0        0.0\n",
              "4  Fully Paid              176220  ...          0.0        0.0\n",
              "\n",
              "[5 rows x 11 columns]"
            ]
          },
          "metadata": {
            "tags": []
          },
          "execution_count": 257
        }
      ]
    },
    {
      "cell_type": "markdown",
      "metadata": {
        "id": "bslikeSUWbxh"
      },
      "source": [
        "Taking care of missing data"
      ]
    },
    {
      "cell_type": "code",
      "metadata": {
        "colab": {
          "base_uri": "https://localhost:8080/"
        },
        "id": "sqjfust1_vHi",
        "outputId": "2c91a6e5-38f7-4b5b-f4ce-555b6951a984"
      },
      "source": [
        "dataset.isnull().sum()"
      ],
      "execution_count": 258,
      "outputs": [
        {
          "output_type": "execute_result",
          "data": {
            "text/plain": [
              "Loan Status                      0\n",
              "Current Loan Amount              0\n",
              "Term                             1\n",
              "Credit Score                 20236\n",
              "Annual Income                20235\n",
              "Years in current job          4466\n",
              "Years of Credit History          0\n",
              "Number of Credit Problems        0\n",
              "Current Credit Balance           0\n",
              "Bankruptcies                   221\n",
              "Tax Liens                       11\n",
              "dtype: int64"
            ]
          },
          "metadata": {
            "tags": []
          },
          "execution_count": 258
        }
      ]
    },
    {
      "cell_type": "code",
      "metadata": {
        "id": "HBglrrRWWosH"
      },
      "source": [
        "dataset.dropna(inplace = True)  #droping rows with null"
      ],
      "execution_count": 259,
      "outputs": []
    },
    {
      "cell_type": "code",
      "metadata": {
        "colab": {
          "base_uri": "https://localhost:8080/"
        },
        "id": "yYOGpm0v_OC9",
        "outputId": "98378d7e-de3f-41de-8700-061e6cc53e73"
      },
      "source": [
        "dataset.isnull().sum()"
      ],
      "execution_count": 260,
      "outputs": [
        {
          "output_type": "execute_result",
          "data": {
            "text/plain": [
              "Loan Status                  0\n",
              "Current Loan Amount          0\n",
              "Term                         0\n",
              "Credit Score                 0\n",
              "Annual Income                0\n",
              "Years in current job         0\n",
              "Years of Credit History      0\n",
              "Number of Credit Problems    0\n",
              "Current Credit Balance       0\n",
              "Bankruptcies                 0\n",
              "Tax Liens                    0\n",
              "dtype: int64"
            ]
          },
          "metadata": {
            "tags": []
          },
          "execution_count": 260
        }
      ]
    },
    {
      "cell_type": "code",
      "metadata": {
        "colab": {
          "base_uri": "https://localhost:8080/",
          "height": 191
        },
        "id": "GXnYJL---vS5",
        "outputId": "96b4524e-f4c1-4fcf-87db-a39c48285d84"
      },
      "source": [
        "dataset.head()"
      ],
      "execution_count": 261,
      "outputs": [
        {
          "output_type": "execute_result",
          "data": {
            "text/html": [
              "<div>\n",
              "<style scoped>\n",
              "    .dataframe tbody tr th:only-of-type {\n",
              "        vertical-align: middle;\n",
              "    }\n",
              "\n",
              "    .dataframe tbody tr th {\n",
              "        vertical-align: top;\n",
              "    }\n",
              "\n",
              "    .dataframe thead th {\n",
              "        text-align: right;\n",
              "    }\n",
              "</style>\n",
              "<table border=\"1\" class=\"dataframe\">\n",
              "  <thead>\n",
              "    <tr style=\"text-align: right;\">\n",
              "      <th></th>\n",
              "      <th>Loan Status</th>\n",
              "      <th>Current Loan Amount</th>\n",
              "      <th>Term</th>\n",
              "      <th>Credit Score</th>\n",
              "      <th>Annual Income</th>\n",
              "      <th>Years in current job</th>\n",
              "      <th>Years of Credit History</th>\n",
              "      <th>Number of Credit Problems</th>\n",
              "      <th>Current Credit Balance</th>\n",
              "      <th>Bankruptcies</th>\n",
              "      <th>Tax Liens</th>\n",
              "    </tr>\n",
              "  </thead>\n",
              "  <tbody>\n",
              "    <tr>\n",
              "      <th>0</th>\n",
              "      <td>Fully Paid</td>\n",
              "      <td>445412</td>\n",
              "      <td>Short Term</td>\n",
              "      <td>709.0</td>\n",
              "      <td>1167493.0</td>\n",
              "      <td>8</td>\n",
              "      <td>17.2</td>\n",
              "      <td>1</td>\n",
              "      <td>228190</td>\n",
              "      <td>1.0</td>\n",
              "      <td>0.0</td>\n",
              "    </tr>\n",
              "    <tr>\n",
              "      <th>2</th>\n",
              "      <td>Fully Paid</td>\n",
              "      <td>99999999</td>\n",
              "      <td>Short Term</td>\n",
              "      <td>741.0</td>\n",
              "      <td>2231892.0</td>\n",
              "      <td>8</td>\n",
              "      <td>14.9</td>\n",
              "      <td>1</td>\n",
              "      <td>297996</td>\n",
              "      <td>0.0</td>\n",
              "      <td>0.0</td>\n",
              "    </tr>\n",
              "    <tr>\n",
              "      <th>3</th>\n",
              "      <td>Fully Paid</td>\n",
              "      <td>347666</td>\n",
              "      <td>Long Term</td>\n",
              "      <td>721.0</td>\n",
              "      <td>806949.0</td>\n",
              "      <td>3</td>\n",
              "      <td>12.0</td>\n",
              "      <td>0</td>\n",
              "      <td>256329</td>\n",
              "      <td>0.0</td>\n",
              "      <td>0.0</td>\n",
              "    </tr>\n",
              "    <tr>\n",
              "      <th>5</th>\n",
              "      <td>Charged Off</td>\n",
              "      <td>206602</td>\n",
              "      <td>Short Term</td>\n",
              "      <td>7290.0</td>\n",
              "      <td>896857.0</td>\n",
              "      <td>10</td>\n",
              "      <td>17.3</td>\n",
              "      <td>0</td>\n",
              "      <td>215308</td>\n",
              "      <td>0.0</td>\n",
              "      <td>0.0</td>\n",
              "    </tr>\n",
              "    <tr>\n",
              "      <th>6</th>\n",
              "      <td>Fully Paid</td>\n",
              "      <td>217646</td>\n",
              "      <td>Short Term</td>\n",
              "      <td>730.0</td>\n",
              "      <td>1184194.0</td>\n",
              "      <td>0</td>\n",
              "      <td>19.6</td>\n",
              "      <td>1</td>\n",
              "      <td>122170</td>\n",
              "      <td>1.0</td>\n",
              "      <td>0.0</td>\n",
              "    </tr>\n",
              "  </tbody>\n",
              "</table>\n",
              "</div>"
            ],
            "text/plain": [
              "   Loan Status Current Loan Amount  ... Bankruptcies  Tax Liens\n",
              "0   Fully Paid              445412  ...          1.0        0.0\n",
              "2   Fully Paid            99999999  ...          0.0        0.0\n",
              "3   Fully Paid              347666  ...          0.0        0.0\n",
              "5  Charged Off              206602  ...          0.0        0.0\n",
              "6   Fully Paid              217646  ...          1.0        0.0\n",
              "\n",
              "[5 rows x 11 columns]"
            ]
          },
          "metadata": {
            "tags": []
          },
          "execution_count": 261
        }
      ]
    },
    {
      "cell_type": "code",
      "metadata": {
        "colab": {
          "base_uri": "https://localhost:8080/"
        },
        "id": "CrUogovs-0Am",
        "outputId": "eb42196c-cfaa-4e94-efdb-fe5f01d55a2d"
      },
      "source": [
        "dataset.info()"
      ],
      "execution_count": 262,
      "outputs": [
        {
          "output_type": "stream",
          "text": [
            "<class 'pandas.core.frame.DataFrame'>\n",
            "Int64Index: 81752 entries, 0 to 105766\n",
            "Data columns (total 11 columns):\n",
            " #   Column                     Non-Null Count  Dtype  \n",
            "---  ------                     --------------  -----  \n",
            " 0   Loan Status                81752 non-null  object \n",
            " 1   Current Loan Amount        81752 non-null  object \n",
            " 2   Term                       81752 non-null  object \n",
            " 3   Credit Score               81752 non-null  float64\n",
            " 4   Annual Income              81752 non-null  float64\n",
            " 5   Years in current job       81752 non-null  object \n",
            " 6   Years of Credit History    81752 non-null  float64\n",
            " 7   Number of Credit Problems  81752 non-null  int64  \n",
            " 8   Current Credit Balance     81752 non-null  int64  \n",
            " 9   Bankruptcies               81752 non-null  float64\n",
            " 10  Tax Liens                  81752 non-null  float64\n",
            "dtypes: float64(5), int64(2), object(4)\n",
            "memory usage: 7.5+ MB\n"
          ],
          "name": "stdout"
        }
      ]
    },
    {
      "cell_type": "code",
      "metadata": {
        "colab": {
          "base_uri": "https://localhost:8080/"
        },
        "id": "4tk3ljf0JEEn",
        "outputId": "e439971c-3a7e-4a96-aade-7e84943dd9ff"
      },
      "source": [
        "dataset[\"Loan Status\"].value_counts()"
      ],
      "execution_count": 263,
      "outputs": [
        {
          "output_type": "execute_result",
          "data": {
            "text/plain": [
              "Fully Paid     64620\n",
              "Charged Off    17132\n",
              "Name: Loan Status, dtype: int64"
            ]
          },
          "metadata": {
            "tags": []
          },
          "execution_count": 263
        }
      ]
    },
    {
      "cell_type": "code",
      "metadata": {
        "colab": {
          "base_uri": "https://localhost:8080/"
        },
        "id": "_YPqUA6HGW40",
        "outputId": "834e727f-327b-4158-ccc4-79b055e52ca9"
      },
      "source": [
        "Loan_Status = dataset[[\"Loan Status\"]]\n",
        "dataset = dataset.drop([\"Loan Status\"], axis=1)\n",
        "dataset = pd.concat([dataset, Loan_Status], axis =1 )\n",
        "dataset.info()"
      ],
      "execution_count": 264,
      "outputs": [
        {
          "output_type": "stream",
          "text": [
            "<class 'pandas.core.frame.DataFrame'>\n",
            "Int64Index: 81752 entries, 0 to 105766\n",
            "Data columns (total 11 columns):\n",
            " #   Column                     Non-Null Count  Dtype  \n",
            "---  ------                     --------------  -----  \n",
            " 0   Current Loan Amount        81752 non-null  object \n",
            " 1   Term                       81752 non-null  object \n",
            " 2   Credit Score               81752 non-null  float64\n",
            " 3   Annual Income              81752 non-null  float64\n",
            " 4   Years in current job       81752 non-null  object \n",
            " 5   Years of Credit History    81752 non-null  float64\n",
            " 6   Number of Credit Problems  81752 non-null  int64  \n",
            " 7   Current Credit Balance     81752 non-null  int64  \n",
            " 8   Bankruptcies               81752 non-null  float64\n",
            " 9   Tax Liens                  81752 non-null  float64\n",
            " 10  Loan Status                81752 non-null  object \n",
            "dtypes: float64(5), int64(2), object(4)\n",
            "memory usage: 7.5+ MB\n"
          ],
          "name": "stdout"
        }
      ]
    },
    {
      "cell_type": "code",
      "metadata": {
        "id": "SqaVr7IS_ATc"
      },
      "source": [
        "\n",
        "X = dataset.iloc[:, [0,1,2,3,4,5,6,7,8,9]].values\n",
        "y = dataset.iloc[:, 10].values    #status of loan\n"
      ],
      "execution_count": 265,
      "outputs": []
    },
    {
      "cell_type": "markdown",
      "metadata": {
        "id": "S33qKBH_eynF"
      },
      "source": [
        "Encoding the Independent Variable (col: Loan_Term)"
      ]
    },
    {
      "cell_type": "code",
      "metadata": {
        "id": "40vEhq6ze0Ac"
      },
      "source": [
        "from sklearn.compose import ColumnTransformer\n",
        "from sklearn.preprocessing import OneHotEncoder  #import class that will proceed with encoding\n",
        "ColTrnsfm = ColumnTransformer(transformers=[('encoder', OneHotEncoder(), [1])], remainder='passthrough')\n",
        "X = np.array(ColTrnsfm.fit_transform(X))"
      ],
      "execution_count": 266,
      "outputs": []
    },
    {
      "cell_type": "code",
      "metadata": {
        "colab": {
          "base_uri": "https://localhost:8080/"
        },
        "id": "ln6oOvqtEE4P",
        "outputId": "9a38306c-dd3b-4cc9-d0d4-31403d94d61b"
      },
      "source": [
        "X"
      ],
      "execution_count": 267,
      "outputs": [
        {
          "output_type": "execute_result",
          "data": {
            "text/plain": [
              "array([[0.0, 1.0, 445412, ..., 228190, 1.0, 0.0],\n",
              "       [0.0, 1.0, 99999999, ..., 297996, 0.0, 0.0],\n",
              "       [1.0, 0.0, 347666, ..., 256329, 0.0, 0.0],\n",
              "       ...,\n",
              "       [0.0, 1.0, 99999999, ..., 153045, 0.0, 0.0],\n",
              "       [0.0, 1.0, 103136, ..., 109554, 1.0, 0.0],\n",
              "       [0.0, 1.0, 530332, ..., 404225, 0.0, 0.0]], dtype=object)"
            ]
          },
          "metadata": {
            "tags": []
          },
          "execution_count": 267
        }
      ]
    },
    {
      "cell_type": "markdown",
      "metadata": {
        "id": "Uve8V2J1hqVP"
      },
      "source": [
        "Encoding the Dependent Variable (Col: Loan_Status)"
      ]
    },
    {
      "cell_type": "code",
      "metadata": {
        "id": "hqg5X7mvhuID"
      },
      "source": [
        "from sklearn.preprocessing import LabelEncoder\n",
        "le = LabelEncoder()\n",
        "y = le.fit_transform(y)"
      ],
      "execution_count": 268,
      "outputs": []
    },
    {
      "cell_type": "code",
      "metadata": {
        "colab": {
          "base_uri": "https://localhost:8080/"
        },
        "id": "-B-ErZl6oU6l",
        "outputId": "e138841d-b9ac-47e5-9ff4-6ad98d05ed11"
      },
      "source": [
        "y"
      ],
      "execution_count": 269,
      "outputs": [
        {
          "output_type": "execute_result",
          "data": {
            "text/plain": [
              "array([1, 1, 1, ..., 1, 1, 1])"
            ]
          },
          "metadata": {
            "tags": []
          },
          "execution_count": 269
        }
      ]
    },
    {
      "cell_type": "markdown",
      "metadata": {
        "id": "5pzTaPwhrKHr"
      },
      "source": [
        "**Splitting the Dataset into the training and Test Sets**"
      ]
    },
    {
      "cell_type": "code",
      "metadata": {
        "id": "w0I3orbsrJMU"
      },
      "source": [
        "#3. Splitting the Dataset into the training and Test Sets\n",
        "from sklearn.model_selection import train_test_split\n",
        "X_train, X_test, y_train, y_test = train_test_split(X, y, test_size = 0.20, random_state = 0)"
      ],
      "execution_count": 270,
      "outputs": []
    },
    {
      "cell_type": "code",
      "metadata": {
        "id": "Vchm3xGe3g5c",
        "colab": {
          "base_uri": "https://localhost:8080/"
        },
        "outputId": "a077695e-a66b-4d20-e251-aacb5b96d888"
      },
      "source": [
        "X_train"
      ],
      "execution_count": 271,
      "outputs": [
        {
          "output_type": "execute_result",
          "data": {
            "text/plain": [
              "array([[1.0, 0.0, 247808, ..., 76893, 0.0, 0.0],\n",
              "       [0.0, 1.0, '99999999', ..., 279642, 0.0, 0.0],\n",
              "       [0.0, 1.0, '460702', ..., 641250, 0.0, 0.0],\n",
              "       ...,\n",
              "       [0.0, 1.0, 134904, ..., 464455, 0.0, 0.0],\n",
              "       [0.0, 1.0, 99999999, ..., 269914, 0.0, 0.0],\n",
              "       [0.0, 1.0, '66572', ..., 51243, 0.0, 0.0]], dtype=object)"
            ]
          },
          "metadata": {
            "tags": []
          },
          "execution_count": 271
        }
      ]
    },
    {
      "cell_type": "markdown",
      "metadata": {
        "id": "0rFfNaz0it9L"
      },
      "source": [
        "**Feature Scaling - Standardisation**"
      ]
    },
    {
      "cell_type": "code",
      "metadata": {
        "id": "O6X4ptBpjYSk"
      },
      "source": [
        "#Standardisation-recommended [-3:3] vs Normalisation [0:1] for specifc situations\n",
        "#note: not applied to encoded indep variables\n",
        "from sklearn.preprocessing import StandardScaler #Standartisation \n",
        "sc = StandardScaler()\n",
        "\n",
        "X_train[:, 2:] = sc.fit_transform(X_train[:, 2:])\n",
        "X_test[:, 2:] = sc.transform(X_test[:, 2:])"
      ],
      "execution_count": 272,
      "outputs": []
    },
    {
      "cell_type": "code",
      "metadata": {
        "colab": {
          "base_uri": "https://localhost:8080/"
        },
        "id": "Ed1aLaDfoorO",
        "outputId": "43946183-2bd9-4ff8-85f6-7b3d9fbe9fc4"
      },
      "source": [
        "X_train"
      ],
      "execution_count": 273,
      "outputs": [
        {
          "output_type": "execute_result",
          "data": {
            "text/plain": [
              "array([[1.0, 0.0, -0.40801105985865543, ..., -0.5654689559070466,\n",
              "        -0.32824994821247483, -0.11123980461393151],\n",
              "       [0.0, 1.0, 2.4630075305103962, ..., -0.04487291834503262,\n",
              "        -0.32824994821247483, -0.11123980461393151],\n",
              "       [0.0, 1.0, -0.40188364926595954, ..., 0.883623360061888,\n",
              "        -0.32824994821247483, -0.11123980461393151],\n",
              "       ...,\n",
              "       [0.0, 1.0, -0.4112606073590911, ..., 0.4296690793464405,\n",
              "        -0.32824994821247483, -0.11123980461393151],\n",
              "       [0.0, 1.0, 2.4630075305103962, ..., -0.06985138064769883,\n",
              "        -0.32824994821247483, -0.11123980461393151],\n",
              "       [0.0, 1.0, -0.4132273054371022, ..., -0.6313301358066548,\n",
              "        -0.32824994821247483, -0.11123980461393151]], dtype=object)"
            ]
          },
          "metadata": {
            "tags": []
          },
          "execution_count": 273
        }
      ]
    },
    {
      "cell_type": "markdown",
      "metadata": {
        "id": "w3fbOKEDN5_J"
      },
      "source": [
        "**Training the SVM Model on the Training DataSet**"
      ]
    },
    {
      "cell_type": "code",
      "metadata": {
        "colab": {
          "base_uri": "https://localhost:8080/"
        },
        "id": "3UrmvF0trmmr",
        "outputId": "d9856eda-e41d-4b14-b397-8fba01c7e1b7"
      },
      "source": [
        "from sklearn.svm import SVC\n",
        "classifier = SVC(C = 0.25, kernel= 'linear')\n",
        "classifier.fit(X_train, y_train)"
      ],
      "execution_count": 274,
      "outputs": [
        {
          "output_type": "execute_result",
          "data": {
            "text/plain": [
              "SVC(C=0.25, break_ties=False, cache_size=200, class_weight=None, coef0=0.0,\n",
              "    decision_function_shape='ovr', degree=3, gamma='scale', kernel='linear',\n",
              "    max_iter=-1, probability=False, random_state=None, shrinking=True,\n",
              "    tol=0.001, verbose=False)"
            ]
          },
          "metadata": {
            "tags": []
          },
          "execution_count": 274
        }
      ]
    },
    {
      "cell_type": "markdown",
      "metadata": {
        "id": "eZtnTS-f4Uck"
      },
      "source": [
        "Predicting the Test set results"
      ]
    },
    {
      "cell_type": "code",
      "metadata": {
        "id": "TFHQ4z3R4T5n"
      },
      "source": [
        "y_pred = classifier.predict(X_test)"
      ],
      "execution_count": 275,
      "outputs": []
    },
    {
      "cell_type": "markdown",
      "metadata": {
        "id": "Em9_IvVa4L2R"
      },
      "source": [
        "Making the Confusion Matrix"
      ]
    },
    {
      "cell_type": "code",
      "metadata": {
        "id": "QSIYWI0F4LQl",
        "colab": {
          "base_uri": "https://localhost:8080/"
        },
        "outputId": "7f36d946-ace6-4c07-acd2-8f243ee1b0e0"
      },
      "source": [
        "from sklearn.metrics import confusion_matrix, accuracy_score\n",
        "cm = confusion_matrix(y_test, y_pred)\n",
        "print(cm)\n",
        "accuracy_score(y_test, y_pred)"
      ],
      "execution_count": 276,
      "outputs": [
        {
          "output_type": "stream",
          "text": [
            "[[  896  2544]\n",
            " [    0 12911]]\n"
          ],
          "name": "stdout"
        },
        {
          "output_type": "execute_result",
          "data": {
            "text/plain": [
              "0.8444131857378754"
            ]
          },
          "metadata": {
            "tags": []
          },
          "execution_count": 276
        }
      ]
    },
    {
      "cell_type": "markdown",
      "metadata": {
        "id": "juV5NDlqLXam"
      },
      "source": [
        "From confusion matrix, we see that we dont have false negative, but we have some false positive. 84% of Accuracy result is not bad. We will improve it further with Grid Search"
      ]
    },
    {
      "cell_type": "markdown",
      "metadata": {
        "id": "Wqlcm9CLOfJI"
      },
      "source": [
        "**Save the model to reuse it again**"
      ]
    },
    {
      "cell_type": "code",
      "metadata": {
        "id": "_bPwgTTeOiQD"
      },
      "source": [
        "import pickle"
      ],
      "execution_count": 277,
      "outputs": []
    },
    {
      "cell_type": "code",
      "metadata": {
        "id": "QOMP0BdgQcIa"
      },
      "source": [
        "file = open('Bank_Loan_SVM.pkl', 'wb')\n",
        "\n",
        "# dump information to that file\n",
        "pickle.dump(classifier, file)"
      ],
      "execution_count": 278,
      "outputs": []
    },
    {
      "cell_type": "code",
      "metadata": {
        "id": "TUbcXUZoOjyZ"
      },
      "source": [
        "model = open('Bank_Loan_SVM.pkl','rb') # 'wb' - to open file in binary format for writing, 'rb' - in binary for reading"
      ],
      "execution_count": 279,
      "outputs": []
    },
    {
      "cell_type": "code",
      "metadata": {
        "id": "tVWm8cnLgV56"
      },
      "source": [
        "SVM = pickle.load(model)"
      ],
      "execution_count": 280,
      "outputs": []
    },
    {
      "cell_type": "code",
      "metadata": {
        "id": "dFYak8-IOl61"
      },
      "source": [
        "y_prediction = SVM.predict(X_test)"
      ],
      "execution_count": 281,
      "outputs": []
    },
    {
      "cell_type": "code",
      "metadata": {
        "colab": {
          "base_uri": "https://localhost:8080/"
        },
        "id": "9GD_wmuROnz6",
        "outputId": "65e5a73c-1403-49c1-ae16-46198a7ef633"
      },
      "source": [
        "accuracy_score(y_test, y_prediction)"
      ],
      "execution_count": 282,
      "outputs": [
        {
          "output_type": "execute_result",
          "data": {
            "text/plain": [
              "0.8444131857378754"
            ]
          },
          "metadata": {
            "tags": []
          },
          "execution_count": 282
        }
      ]
    }
  ]
}