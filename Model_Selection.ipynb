{
  "nbformat": 4,
  "nbformat_minor": 0,
  "metadata": {
    "colab": {
      "name": "Model-Selection.ipynb",
      "provenance": [],
      "collapsed_sections": []
    },
    "kernelspec": {
      "name": "python3",
      "display_name": "Python 3"
    }
  },
  "cells": [
    {
      "cell_type": "markdown",
      "metadata": {
        "id": "K2k5i9n9Tpxa"
      },
      "source": [
        "Data Preprocessing Tools"
      ]
    },
    {
      "cell_type": "markdown",
      "metadata": {
        "id": "tULoccoUTsQw"
      },
      "source": [
        "Importing the libraries"
      ]
    },
    {
      "cell_type": "code",
      "metadata": {
        "id": "Vdygxv7tTs95"
      },
      "source": [
        "import numpy as np\n",
        "import pandas as pd"
      ],
      "execution_count": 1,
      "outputs": []
    },
    {
      "cell_type": "markdown",
      "metadata": {
        "id": "TuaXfiPnTvGn"
      },
      "source": [
        "Importing the training dataset"
      ]
    },
    {
      "cell_type": "code",
      "metadata": {
        "id": "XDBdqBQKTyJ2"
      },
      "source": [
        "dataset = pd.read_csv('bank_loan_main.csv')\n",
        "#Though there are many independent variables in Dataset, we will use only columns:\n",
        "#Current Loan Amount, Term, Credit Score, Annual Income, Years in current job, Number of Credit Problems, Current Credit Balance, Bankruptcies,Tax Liens.\n",
        "X = dataset.iloc[:, [2,3,4,5,7,14,15,17,18]].values  #exluded some columns\n",
        "y = dataset.iloc[:, -1].values    #status of loan"
      ],
      "execution_count": 2,
      "outputs": []
    },
    {
      "cell_type": "markdown",
      "metadata": {
        "id": "bslikeSUWbxh"
      },
      "source": [
        "Taking care of missing data (col: All)"
      ]
    },
    {
      "cell_type": "code",
      "metadata": {
        "id": "HBglrrRWWosH"
      },
      "source": [
        "from sklearn.impute import SimpleImputer\n",
        "imputer = SimpleImputer(missing_values=np.nan, strategy='mean')  #use average for missing scores - can be applied only to numerical values\n",
        "#imputer.fit(X[:, [2,3,4,5,6,7,8]])\n",
        "imputer.fit(X[:, 2:9])\n",
        "X[:, 2:9] = np.round(imputer.transform(X[:, 2:9]),0) #upper boundary 9 is excluded"
      ],
      "execution_count": 3,
      "outputs": []
    },
    {
      "cell_type": "markdown",
      "metadata": {
        "id": "S33qKBH_eynF"
      },
      "source": [
        "Encoding the Independent Variable (col: Loan_Term)"
      ]
    },
    {
      "cell_type": "code",
      "metadata": {
        "id": "40vEhq6ze0Ac",
        "colab": {
          "base_uri": "https://localhost:8080/"
        },
        "outputId": "11926c38-90da-4310-fcc8-36976478e47e"
      },
      "source": [
        "from sklearn.compose import ColumnTransformer\n",
        "from sklearn.preprocessing import OneHotEncoder  #class that will proceed with encoding\n",
        "ColTrnsfm = ColumnTransformer(transformers=[('encoder', OneHotEncoder(), [1])], remainder='passthrough')\n",
        "X = np.array(ColTrnsfm.fit_transform(X))  #dummy variables were creted here\n",
        "print(X)"
      ],
      "execution_count": 4,
      "outputs": [
        {
          "output_type": "stream",
          "text": [
            "[[0.0 1.0 445412 ... 228190.0 1.0 0.0]\n",
            " [0.0 1.0 262328 ... 229976.0 0.0 0.0]\n",
            " [0.0 1.0 99999999 ... 297996.0 0.0 0.0]\n",
            " ...\n",
            " [0.0 1.0 103136 ... 109554.0 1.0 0.0]\n",
            " [0.0 1.0 530332 ... 404225.0 0.0 0.0]\n",
            " [0.0 1.0 99999999 ... 45600.0 1.0 0.0]]\n"
          ],
          "name": "stdout"
        }
      ]
    },
    {
      "cell_type": "markdown",
      "metadata": {
        "id": "Uve8V2J1hqVP"
      },
      "source": [
        "Encoding the Dependent Variable (Col: Loan_Status)"
      ]
    },
    {
      "cell_type": "code",
      "metadata": {
        "id": "hqg5X7mvhuID"
      },
      "source": [
        "from sklearn.preprocessing import LabelEncoder\n",
        "le = LabelEncoder()\n",
        "y = le.fit_transform(y)"
      ],
      "execution_count": 5,
      "outputs": []
    },
    {
      "cell_type": "markdown",
      "metadata": {
        "id": "5pzTaPwhrKHr"
      },
      "source": [
        "**Splitting the Dataset into the training and Test Sets**"
      ]
    },
    {
      "cell_type": "code",
      "metadata": {
        "id": "w0I3orbsrJMU"
      },
      "source": [
        "#3. Splitting the Dataset into the training and Test Sets\n",
        "from sklearn.model_selection import train_test_split\n",
        "X_train, X_test, y_train, y_test = train_test_split(X, y, test_size = 0.25, random_state = 0)"
      ],
      "execution_count": 6,
      "outputs": []
    },
    {
      "cell_type": "markdown",
      "metadata": {
        "id": "0rFfNaz0it9L"
      },
      "source": [
        "**Feature Scaling - Standardisation-recommended [-3:3] vs Normalisation [0:1] for specifc situations**"
      ]
    },
    {
      "cell_type": "code",
      "metadata": {
        "id": "O6X4ptBpjYSk"
      },
      "source": [
        "#note: dont apply to encoded indep variables\n",
        "from sklearn.preprocessing import StandardScaler #Standartisation \n",
        "sc = StandardScaler()\n",
        "#X[:, 2:] = sc.fit_transform(X[:, 2:])\n",
        "X_train[:, 2:] = sc.fit_transform(X_train[:, 2:])\n",
        "X_test[:, 2:] = sc.transform(X_test[:, 2:])\n"
      ],
      "execution_count": 7,
      "outputs": []
    },
    {
      "cell_type": "markdown",
      "metadata": {
        "id": "_zdW_5KTorCT"
      },
      "source": [
        "**Making the Confusion Matrix and Printing Accuracy Scores**"
      ]
    },
    {
      "cell_type": "code",
      "metadata": {
        "id": "bgOcK1Hsky-M"
      },
      "source": [
        "from sklearn.metrics import confusion_matrix, accuracy_score\n",
        "from sklearn.metrics import classification_report\n",
        "from sklearn.metrics import roc_auc_score\n",
        "from sklearn.model_selection import cross_val_score\n",
        "import datetime"
      ],
      "execution_count": 8,
      "outputs": []
    },
    {
      "cell_type": "code",
      "metadata": {
        "id": "KKBXPFJ8oshD"
      },
      "source": [
        "class calculate_score:\n",
        "    def __init__(self, X_test, y_test, Model_name):\n",
        "        self.X_test=X_test\n",
        "        self.y_test=y_test\n",
        "        self.Model_name=Model_name\n",
        "\n",
        "        y_pred = classifier.predict(X_test)\n",
        "        cm = confusion_matrix(y_test, y_pred)\n",
        "        #print(cm)\n",
        "        #accuracy_score_final = accuracy_score(y_test, y_pred)\n",
        "        #print(f\"{Model_name} Model Accuracy Rate = {accuracy_score_final}\")\n",
        "        print(f\"{Model_name} Model Evaluation: \" )\n",
        "        print(classification_report(y_test,y_pred))\n",
        "        auc = roc_auc_score(y_test,y_pred)\n",
        "        print(f\"AUC score: {round(auc,2)}\" )   \n",
        "\n",
        "        #accuracies = cross_val_score(estimator = classifier, X = X_train, y = y_train, cv = 10)\n",
        "        #print(f\"k-Fold Cross Validation Accuracy: {round(accuracies.mean()*100,2)} %\")\n",
        "        #print(f\"k-Fold Cross Validation Standard Deviation: {round(accuracies.std()*100,2)} % \\n\")\n",
        "\n",
        "        run_time = datetime.datetime.now() - time_start\n",
        "        print(f\"Time: {run_time}\")\n"
      ],
      "execution_count": 9,
      "outputs": []
    },
    {
      "cell_type": "markdown",
      "metadata": {
        "id": "w3fbOKEDN5_J"
      },
      "source": [
        "**Training Models in order to check Accuracy Scores**"
      ]
    },
    {
      "cell_type": "code",
      "metadata": {
        "colab": {
          "base_uri": "https://localhost:8080/"
        },
        "id": "7WGVLtPfo3gC",
        "outputId": "ac8f5bc2-91a5-49af-b56a-422e083b9ebf"
      },
      "source": [
        "# 5.1 Training the model on the Training Set (Naïve Bayes)\n",
        "time_start = datetime.datetime.now()\n",
        "from sklearn.naive_bayes import GaussianNB\n",
        "classifier = GaussianNB()\n",
        "classifier.fit(X_train, y_train)\n",
        "\n",
        "Model_name = 'Naïve Bayes'\n",
        "Testing_Set = calculate_score(X_test, y_test, Model_name)"
      ],
      "execution_count": 10,
      "outputs": [
        {
          "output_type": "stream",
          "text": [
            "Naïve Bayes Model Evaluation: \n",
            "              precision    recall  f1-score   support\n",
            "\n",
            "           0       0.31      0.76      0.44      5647\n",
            "           1       0.88      0.50      0.64     19353\n",
            "\n",
            "    accuracy                           0.56     25000\n",
            "   macro avg       0.59      0.63      0.54     25000\n",
            "weighted avg       0.75      0.56      0.59     25000\n",
            "\n",
            "AUC score: 0.63\n",
            "Time: 0:00:00.172955\n"
          ],
          "name": "stdout"
        }
      ]
    },
    {
      "cell_type": "code",
      "metadata": {
        "colab": {
          "base_uri": "https://localhost:8080/"
        },
        "id": "sc56wuteo6vD",
        "outputId": "bace448a-9ebd-447d-a4fb-293a7fba7fd0"
      },
      "source": [
        "# 5.2 Training the model on the Training Set (Logistic Regression)\n",
        "time_start = datetime.datetime.now()\n",
        "from sklearn.linear_model import LogisticRegression\n",
        "classifier = LogisticRegression(random_state = 0)\n",
        "classifier.fit(X_train, y_train)\n",
        "\n",
        "Model_name = 'Logistic Regression'\n",
        "Testing_Set = calculate_score(X_test, y_test, Model_name)"
      ],
      "execution_count": 11,
      "outputs": [
        {
          "output_type": "stream",
          "text": [
            "Logistic Regression Model Evaluation: \n",
            "              precision    recall  f1-score   support\n",
            "\n",
            "           0       1.00      0.20      0.34      5647\n",
            "           1       0.81      1.00      0.90     19353\n",
            "\n",
            "    accuracy                           0.82     25000\n",
            "   macro avg       0.91      0.60      0.62     25000\n",
            "weighted avg       0.85      0.82      0.77     25000\n",
            "\n",
            "AUC score: 0.6\n",
            "Time: 0:00:01.207955\n"
          ],
          "name": "stdout"
        }
      ]
    },
    {
      "cell_type": "code",
      "metadata": {
        "colab": {
          "base_uri": "https://localhost:8080/"
        },
        "id": "3UrmvF0trmmr",
        "outputId": "e5e05537-1f6c-492d-e52e-9192c4116081"
      },
      "source": [
        "# 5.3 Training the model on the Training Set (SVM)\n",
        "time_start = datetime.datetime.now()\n",
        "from sklearn.svm import SVC\n",
        "classifier = SVC(kernel = 'linear', random_state = 0)\n",
        "classifier.fit(X_train, y_train)\n",
        "\n",
        "Model_name = 'SVM'\n",
        "Testing_Set = calculate_score(X_test, y_test, Model_name)"
      ],
      "execution_count": 12,
      "outputs": [
        {
          "output_type": "stream",
          "text": [
            "SVM Model Evaluation: \n",
            "              precision    recall  f1-score   support\n",
            "\n",
            "           0       1.00      0.20      0.34      5647\n",
            "           1       0.81      1.00      0.90     19353\n",
            "\n",
            "    accuracy                           0.82     25000\n",
            "   macro avg       0.91      0.60      0.62     25000\n",
            "weighted avg       0.85      0.82      0.77     25000\n",
            "\n",
            "AUC score: 0.6\n",
            "Time: 0:04:39.505874\n"
          ],
          "name": "stdout"
        }
      ]
    },
    {
      "cell_type": "code",
      "metadata": {
        "colab": {
          "base_uri": "https://localhost:8080/"
        },
        "id": "KPWojH6NrnQj",
        "outputId": "f4479a1f-d80f-4478-ce14-766c564a59ef"
      },
      "source": [
        "# 5.4 Training the model on the Training Set (Kernel SVM)\n",
        "time_start = datetime.datetime.now()\n",
        "from sklearn.svm import SVC\n",
        "classifier = SVC(kernel = 'rbf', random_state = 0)\n",
        "classifier.fit(X_train, y_train)\n",
        "\n",
        "Model_name = 'Kernel SVM'\n",
        "Testing_Set = calculate_score(X_test, y_test, Model_name)"
      ],
      "execution_count": 13,
      "outputs": [
        {
          "output_type": "stream",
          "text": [
            "Kernel SVM Model Evaluation: \n",
            "              precision    recall  f1-score   support\n",
            "\n",
            "           0       1.00      0.20      0.34      5647\n",
            "           1       0.81      1.00      0.90     19353\n",
            "\n",
            "    accuracy                           0.82     25000\n",
            "   macro avg       0.90      0.60      0.62     25000\n",
            "weighted avg       0.85      0.82      0.77     25000\n",
            "\n",
            "AUC score: 0.6\n",
            "Time: 0:08:21.058099\n"
          ],
          "name": "stdout"
        }
      ]
    },
    {
      "cell_type": "code",
      "metadata": {
        "colab": {
          "base_uri": "https://localhost:8080/"
        },
        "id": "Ij67JY7PrrQi",
        "outputId": "4ecd864d-3330-4ab2-8655-81f9bf734793"
      },
      "source": [
        "# 5.5 Training the model on the Training Set (K-Nearest Neighbors)\n",
        "time_start = datetime.datetime.now()\n",
        "from sklearn.neighbors import KNeighborsClassifier\n",
        "classifier = KNeighborsClassifier(n_neighbors = 5, metric = 'minkowski', p = 2)\n",
        "classifier.fit(X_train, y_train)\n",
        "\n",
        "Model_name = 'K-Nearest Neighbors'\n",
        "Testing_Set = calculate_score(X_test, y_test, Model_name)"
      ],
      "execution_count": 14,
      "outputs": [
        {
          "output_type": "stream",
          "text": [
            "K-Nearest Neighbors Model Evaluation: \n",
            "              precision    recall  f1-score   support\n",
            "\n",
            "           0       0.57      0.30      0.39      5647\n",
            "           1       0.82      0.93      0.87     19353\n",
            "\n",
            "    accuracy                           0.79     25000\n",
            "   macro avg       0.69      0.62      0.63     25000\n",
            "weighted avg       0.76      0.79      0.76     25000\n",
            "\n",
            "AUC score: 0.62\n",
            "Time: 0:00:08.763829\n"
          ],
          "name": "stdout"
        }
      ]
    },
    {
      "cell_type": "code",
      "metadata": {
        "colab": {
          "base_uri": "https://localhost:8080/"
        },
        "id": "CMiXVnoYrrEr",
        "outputId": "b97de6f7-0d29-4b44-f343-4b0b17a2f14b"
      },
      "source": [
        "# 5.6 Training the model on the Training Set (Decision Tree Classification)\n",
        "time_start = datetime.datetime.now()\n",
        "from sklearn.tree import DecisionTreeClassifier\n",
        "classifier = DecisionTreeClassifier(criterion = 'entropy', random_state = 0)\n",
        "classifier.fit(X_train, y_train)\n",
        "\n",
        "Model_name = 'Decision Tree Classifier'\n",
        "Testing_Set = calculate_score(X_test, y_test, Model_name)"
      ],
      "execution_count": 15,
      "outputs": [
        {
          "output_type": "stream",
          "text": [
            "Decision Tree Classifier Model Evaluation: \n",
            "              precision    recall  f1-score   support\n",
            "\n",
            "           0       0.44      0.42      0.43      5647\n",
            "           1       0.83      0.85      0.84     19353\n",
            "\n",
            "    accuracy                           0.75     25000\n",
            "   macro avg       0.64      0.63      0.64     25000\n",
            "weighted avg       0.75      0.75      0.75     25000\n",
            "\n",
            "AUC score: 0.63\n",
            "Time: 0:00:01.238916\n"
          ],
          "name": "stdout"
        }
      ]
    },
    {
      "cell_type": "code",
      "metadata": {
        "colab": {
          "base_uri": "https://localhost:8080/"
        },
        "id": "e4c9eRYkrw7E",
        "outputId": "0388b9ab-28c6-4a9a-86b1-ea64c7d089f2"
      },
      "source": [
        "# 5.7 Training the model on the Training Set (Random Forest Classification)\n",
        "time_start = datetime.datetime.now()\n",
        "from sklearn.ensemble import RandomForestClassifier\n",
        "classifier = RandomForestClassifier(n_estimators = 10, criterion = 'entropy', random_state = 0)\n",
        "classifier.fit(X_train, y_train)\n",
        "\n",
        "Model_name = 'Random Forest Classification'\n",
        "Testing_Set = calculate_score(X_test, y_test, Model_name)"
      ],
      "execution_count": 16,
      "outputs": [
        {
          "output_type": "stream",
          "text": [
            "Random Forest Classification Model Evaluation: \n",
            "              precision    recall  f1-score   support\n",
            "\n",
            "           0       0.55      0.33      0.41      5647\n",
            "           1       0.83      0.92      0.87     19353\n",
            "\n",
            "    accuracy                           0.79     25000\n",
            "   macro avg       0.69      0.63      0.64     25000\n",
            "weighted avg       0.76      0.79      0.77     25000\n",
            "\n",
            "AUC score: 0.63\n",
            "Time: 0:00:02.794041\n"
          ],
          "name": "stdout"
        }
      ]
    },
    {
      "cell_type": "code",
      "metadata": {
        "colab": {
          "base_uri": "https://localhost:8080/"
        },
        "id": "CltbduK5jkxx",
        "outputId": "1ea4aa72-08fc-4111-8533-eb24e387ab99"
      },
      "source": [
        "# 5.8 Training the model on the Training Set (XGBoost Classification)\n",
        "from xgboost import XGBClassifier\n",
        "classifier = XGBClassifier(UserWarning=None)\n",
        "classifier.fit(X_train, y_train)\n",
        "\n",
        "Model_name = 'XGBoost Classification'\n",
        "Testing_Set = calculate_score(X_test, y_test, Model_name)"
      ],
      "execution_count": 17,
      "outputs": [
        {
          "output_type": "stream",
          "text": [
            "XGBoost Classification Model Evaluation: \n",
            "              precision    recall  f1-score   support\n",
            "\n",
            "           0       1.00      0.20      0.34      5647\n",
            "           1       0.81      1.00      0.90     19353\n",
            "\n",
            "    accuracy                           0.82     25000\n",
            "   macro avg       0.91      0.60      0.62     25000\n",
            "weighted avg       0.85      0.82      0.77     25000\n",
            "\n",
            "AUC score: 0.6\n",
            "Time: 0:00:07.179171\n"
          ],
          "name": "stdout"
        }
      ]
    }
  ]
}